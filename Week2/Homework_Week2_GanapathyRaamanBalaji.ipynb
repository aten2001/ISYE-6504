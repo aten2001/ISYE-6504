{
 "cells": [
  {
   "cell_type": "markdown",
   "metadata": {},
   "source": [
    "# Homework - Week2 - Ganapathy Raaman Balaji"
   ]
  },
  {
   "cell_type": "markdown",
   "metadata": {},
   "source": [
    "## Problem 4.1"
   ]
  },
  {
   "cell_type": "markdown",
   "metadata": {},
   "source": [
    "```\n",
    "In a recent performance analysis of a fleet of mining trucks, I used GPS data \n",
    "(latitude and longitude) recorded by the machine to cluster the turck operating in different fields.\n",
    "I used this data to summarize truck operation and performance in different mine sites.\n",
    "The predictors I used were \n",
    "GPS coordinates, \n",
    "Truck speed, \n",
    "engine RPM, \n",
    "operation hours and\n",
    "aftertreatment (emission) performance values.\n",
    "\n",
    "```"
   ]
  },
  {
   "cell_type": "code",
   "execution_count": null,
   "metadata": {},
   "outputs": [],
   "source": []
  },
  {
   "cell_type": "markdown",
   "metadata": {},
   "source": [
    "## Problem 4.2"
   ]
  },
  {
   "cell_type": "code",
   "execution_count": 20,
   "metadata": {},
   "outputs": [],
   "source": [
    "# install.packages(\"dplyr\", repos='http://cran.us.r-project.org')\n",
    "# install.packages(\"tidyverse\", repos='http://cran.us.r-project.org')\n",
    "# install.packages(\"cluster\", repos='http://cran.us.r-project.org')\n",
    "# install.packages(\"fpc\", repos='http://cran.us.r-project.org')\n",
    "# install.packages(\"factoextra\", repos='http://cran.us.r-project.org')"
   ]
  },
  {
   "cell_type": "code",
   "execution_count": 9,
   "metadata": {
    "collapsed": true
   },
   "outputs": [
    {
     "name": "stderr",
     "output_type": "stream",
     "text": [
      "Welcome! Related Books: `Practical Guide To Cluster Analysis in R` at https://goo.gl/13EFCZ\n",
      "Loading required package: gridExtra\n",
      "\n",
      "Attaching package: 'gridExtra'\n",
      "\n",
      "The following object is masked from 'package:dplyr':\n",
      "\n",
      "    combine\n",
      "\n"
     ]
    }
   ],
   "source": [
    "oldw <- getOption(\"warn\")\n",
    "options(warn = -1)\n",
    "library(dplyr)\n",
    "library(tidyverse)\n",
    "library(cluster)\n",
    "library(fpc)\n",
    "library(factoextra)\n",
    "require(gridExtra)"
   ]
  },
  {
   "cell_type": "code",
   "execution_count": 10,
   "metadata": {},
   "outputs": [
    {
     "data": {
      "text/html": [
       "<table>\n",
       "<thead><tr><th scope=col>Sepal.Length</th><th scope=col>Sepal.Width</th><th scope=col>Petal.Length</th><th scope=col>Petal.Width</th></tr></thead>\n",
       "<tbody>\n",
       "\t<tr><td>5.1</td><td>3.5</td><td>1.4</td><td>0.2</td></tr>\n",
       "\t<tr><td>4.9</td><td>3.0</td><td>1.4</td><td>0.2</td></tr>\n",
       "\t<tr><td>4.7</td><td>3.2</td><td>1.3</td><td>0.2</td></tr>\n",
       "\t<tr><td>4.6</td><td>3.1</td><td>1.5</td><td>0.2</td></tr>\n",
       "\t<tr><td>5.0</td><td>3.6</td><td>1.4</td><td>0.2</td></tr>\n",
       "\t<tr><td>5.4</td><td>3.9</td><td>1.7</td><td>0.4</td></tr>\n",
       "</tbody>\n",
       "</table>\n"
      ],
      "text/latex": [
       "\\begin{tabular}{r|llll}\n",
       " Sepal.Length & Sepal.Width & Petal.Length & Petal.Width\\\\\n",
       "\\hline\n",
       "\t 5.1 & 3.5 & 1.4 & 0.2\\\\\n",
       "\t 4.9 & 3.0 & 1.4 & 0.2\\\\\n",
       "\t 4.7 & 3.2 & 1.3 & 0.2\\\\\n",
       "\t 4.6 & 3.1 & 1.5 & 0.2\\\\\n",
       "\t 5.0 & 3.6 & 1.4 & 0.2\\\\\n",
       "\t 5.4 & 3.9 & 1.7 & 0.4\\\\\n",
       "\\end{tabular}\n"
      ],
      "text/markdown": [
       "\n",
       "Sepal.Length | Sepal.Width | Petal.Length | Petal.Width | \n",
       "|---|---|---|---|---|---|\n",
       "| 5.1 | 3.5 | 1.4 | 0.2 | \n",
       "| 4.9 | 3.0 | 1.4 | 0.2 | \n",
       "| 4.7 | 3.2 | 1.3 | 0.2 | \n",
       "| 4.6 | 3.1 | 1.5 | 0.2 | \n",
       "| 5.0 | 3.6 | 1.4 | 0.2 | \n",
       "| 5.4 | 3.9 | 1.7 | 0.4 | \n",
       "\n",
       "\n"
      ],
      "text/plain": [
       "  Sepal.Length Sepal.Width Petal.Length Petal.Width\n",
       "1 5.1          3.5         1.4          0.2        \n",
       "2 4.9          3.0         1.4          0.2        \n",
       "3 4.7          3.2         1.3          0.2        \n",
       "4 4.6          3.1         1.5          0.2        \n",
       "5 5.0          3.6         1.4          0.2        \n",
       "6 5.4          3.9         1.7          0.4        "
      ]
     },
     "metadata": {},
     "output_type": "display_data"
    }
   ],
   "source": [
    "# Read the iris.txt to a dataframe using read.table function. \n",
    "# Writing the first four columns (containing the predictors) to a separate dataframe.\n",
    "\n",
    "df_raw <- read.table(\"iris.txt\", header = TRUE)\n",
    "df <- df_raw[,1:4]\n",
    "head(df)"
   ]
  },
  {
   "cell_type": "code",
   "execution_count": 11,
   "metadata": {},
   "outputs": [
    {
     "data": {
      "image/png": "[encoded data removed]",
      "text/plain": [
       "plot without title"
      ]
     },
     "metadata": {},
     "output_type": "display_data"
    }
   ],
   "source": [
    "# plotting the petal and sepal features separately to view the different features. This helps understand the distincr feature \n",
    "# that will help cluster the data.\n",
    "\n",
    "library(ggplot2)\n",
    "plot1 <- ggplot(df, aes(x = df[,1], y = df[,2]))+geom_point(aes(color = factor\n",
    "                                                    (df_raw$Species)))+labs(x=\"Sepal.Length\", y = \"Sepal.Width\", \n",
    "                                                                         title=\"Sepal.Length vs Sepal.Length\")\n",
    "plot2 <- ggplot(df, aes(x = df[,3], y = df[,4]))+geom_point(aes(color = factor\n",
    "                                                    (df_raw$Species)))+labs(x=\"Petal.Length\", y = \"Petal.Width\", \n",
    "                                                                         title=\"Petal.Length vs Petal.Width\")\n",
    "grid.arrange(plot1, plot2, ncol=1)\n",
    "\n",
    "# It is clear the petal features can get a better clustering of the iris dataset "
   ]
  },
  {
   "cell_type": "code",
   "execution_count": 12,
   "metadata": {},
   "outputs": [
    {
     "data": {
      "image/png": "[encoded data removed]",
      "text/plain": [
       "Plot with title \"Petal Predictors\""
      ]
     },
     "metadata": {},
     "output_type": "display_data"
    }
   ],
   "source": [
    "# For the next step, I am going to try to determine the number of clusters using the elbow method. From the previous\n",
    "# method, I determined that I am going to be using petal features as the input for kmeans method. I am using the elbow \n",
    "# method on both the petal and sepal features. \n",
    "\n",
    "# FROM THE ELBOW METHOD, I am going to be using 3 clusters as input to kmeans function.\n",
    "\n",
    "sepals_df = df[,1:2]\n",
    "petals_df = df[,3:4]\n",
    "\n",
    "par(mfrow=c(1,2))\n",
    "sepals_df <- scale(sepals_df)\n",
    "wss <- (nrow(sepals_df)-1)*sum(apply(sepals_df,2,var))\n",
    "for (i in 2:15) wss[i] <- sum(kmeans(sepals_df, centers=i)$withinss)\n",
    "plot1 <- plot(1:15, wss, type=\"b\", xlab=\"Number of Clusters\", ylab=\"Within groups sum of squares\", main=\"Sepal Predictors\")\n",
    "\n",
    "petals_df <- scale(petals_df)\n",
    "wss <- (nrow(petals_df)-1)*sum(apply(petals_df,2,var))\n",
    "for (i in 2:15) wss[i] <- sum(kmeans(petals_df, centers=i)$withinss)\n",
    "plot2 <- plot(1:15, wss, type=\"b\", xlab=\"Number of Clusters\", ylab=\"Within groups sum of squares\", main=\"Petal Predictors\")\n"
   ]
  },
  {
   "cell_type": "markdown",
   "metadata": {},
   "source": [
    "The plot above represents the variance within the clusters. It decreases as k increases, but it can be seen a bend \n",
    "(or “elbow”) at k = 3 for the petal predictor. This bend indicates that additional clusters beyond the third have \n",
    "little value. In the next section, we’ll classify the observations into 3 clusters."
   ]
  },
  {
   "cell_type": "code",
   "execution_count": 14,
   "metadata": {},
   "outputs": [],
   "source": [
    "# kmeans(x, centers, iter.max = 10, nstart = 1, algorithm = c(\"Hartigan-Wong\", \"Lloyd\", \"Forgy\", \"MacQueen\"), trace=FALSE)\n",
    "\n",
    "set.seed(123)\n",
    "model <- kmeans(petals_df, 3, nstart = 25, iter.max = 10)"
   ]
  },
  {
   "cell_type": "code",
   "execution_count": 15,
   "metadata": {},
   "outputs": [
    {
     "data": {
      "text/html": [
       "<table>\n",
       "<thead><tr><th scope=col>Group.1</th><th scope=col>Petal.Length</th><th scope=col>Petal.Width</th></tr></thead>\n",
       "<tbody>\n",
       "\t<tr><td>1         </td><td>-1.3006301</td><td>-1.2507035</td></tr>\n",
       "\t<tr><td>2         </td><td> 1.0245672</td><td> 1.1242119</td></tr>\n",
       "\t<tr><td>3         </td><td> 0.3048515</td><td> 0.1648655</td></tr>\n",
       "</tbody>\n",
       "</table>\n"
      ],
      "text/latex": [
       "\\begin{tabular}{r|lll}\n",
       " Group.1 & Petal.Length & Petal.Width\\\\\n",
       "\\hline\n",
       "\t 1          & -1.3006301 & -1.2507035\\\\\n",
       "\t 2          &  1.0245672 &  1.1242119\\\\\n",
       "\t 3          &  0.3048515 &  0.1648655\\\\\n",
       "\\end{tabular}\n"
      ],
      "text/markdown": [
       "\n",
       "Group.1 | Petal.Length | Petal.Width | \n",
       "|---|---|---|\n",
       "| 1          | -1.3006301 | -1.2507035 | \n",
       "| 2          |  1.0245672 |  1.1242119 | \n",
       "| 3          |  0.3048515 |  0.1648655 | \n",
       "\n",
       "\n"
      ],
      "text/plain": [
       "  Group.1 Petal.Length Petal.Width\n",
       "1 1       -1.3006301   -1.2507035 \n",
       "2 2        1.0245672    1.1242119 \n",
       "3 3        0.3048515    0.1648655 "
      ]
     },
     "metadata": {},
     "output_type": "display_data"
    }
   ],
   "source": [
    "cluster_centroids <- aggregate(petals_df,by=list(model$cluster),FUN=mean)\n",
    "cluster_centroids"
   ]
  },
  {
   "cell_type": "code",
   "execution_count": 16,
   "metadata": {},
   "outputs": [
    {
     "data": {},
     "metadata": {},
     "output_type": "display_data"
    },
    {
     "data": {
      "image/png": "[encoded data removed]",
      "text/plain": [
       "plot without title"
      ]
     },
     "metadata": {},
     "output_type": "display_data"
    }
   ],
   "source": [
    "# Plotting the clusters and showing the location of the centroid in the cluster\n",
    "fviz_cluster(object = model, data = df, geom = \"point\", choose.vars = c(\"Petal.Length\", \"Petal.Width\"), \n",
    "             stand = FALSE, ellipse.type = \"norm\") + theme_bw()"
   ]
  },
  {
   "cell_type": "markdown",
   "metadata": {},
   "source": []
  },
  {
   "cell_type": "markdown",
   "metadata": {},
   "source": [
    "## Question 5.1"
   ]
  },
  {
   "cell_type": "code",
   "execution_count": 17,
   "metadata": {},
   "outputs": [
    {
     "name": "stdout",
     "output_type": "stream",
     "text": [
      "package 'outliers' successfully unpacked and MD5 sums checked\n",
      "\n",
      "The downloaded binary packages are in\n",
      "\tC:\\Users\\bgraa\\AppData\\Local\\Temp\\Rtmp4cz1Wh\\downloaded_packages\n"
     ]
    }
   ],
   "source": [
    "install.packages(\"outliers\", repos = 'http://cran.us.r-project.org')"
   ]
  },
  {
   "cell_type": "code",
   "execution_count": 18,
   "metadata": {},
   "outputs": [
    {
     "data": {
      "text/html": [
       "<table>\n",
       "<thead><tr><th scope=col>M</th><th scope=col>So</th><th scope=col>Ed</th><th scope=col>Po1</th><th scope=col>Po2</th><th scope=col>LF</th><th scope=col>M.F</th><th scope=col>Pop</th><th scope=col>NW</th><th scope=col>U1</th><th scope=col>U2</th><th scope=col>Wealth</th><th scope=col>Ineq</th><th scope=col>Prob</th><th scope=col>Time</th><th scope=col>Crime</th></tr></thead>\n",
       "<tbody>\n",
       "\t<tr><td>15.1    </td><td>1       </td><td> 9.1    </td><td> 5.8    </td><td>5.6     </td><td>0.510   </td><td> 95.0   </td><td>33      </td><td>30.1    </td><td>0.108   </td><td>4.1     </td><td>3940    </td><td>26.1    </td><td>0.084602</td><td>26.2011 </td><td> 791    </td></tr>\n",
       "\t<tr><td>14.3    </td><td>0       </td><td>11.3    </td><td>10.3    </td><td>9.5     </td><td>0.583   </td><td>101.2   </td><td>13      </td><td>10.2    </td><td>0.096   </td><td>3.6     </td><td>5570    </td><td>19.4    </td><td>0.029599</td><td>25.2999 </td><td>1635    </td></tr>\n",
       "\t<tr><td>14.2    </td><td>1       </td><td> 8.9    </td><td> 4.5    </td><td>4.4     </td><td>0.533   </td><td> 96.9   </td><td>18      </td><td>21.9    </td><td>0.094   </td><td>3.3     </td><td>3180    </td><td>25.0    </td><td>0.083401</td><td>24.3006 </td><td> 578    </td></tr>\n",
       "</tbody>\n",
       "</table>\n"
      ],
      "text/latex": [
       "\\begin{tabular}{r|llllllllllllllll}\n",
       " M & So & Ed & Po1 & Po2 & LF & M.F & Pop & NW & U1 & U2 & Wealth & Ineq & Prob & Time & Crime\\\\\n",
       "\\hline\n",
       "\t 15.1     & 1        &  9.1     &  5.8     & 5.6      & 0.510    &  95.0    & 33       & 30.1     & 0.108    & 4.1      & 3940     & 26.1     & 0.084602 & 26.2011  &  791    \\\\\n",
       "\t 14.3     & 0        & 11.3     & 10.3     & 9.5      & 0.583    & 101.2    & 13       & 10.2     & 0.096    & 3.6      & 5570     & 19.4     & 0.029599 & 25.2999  & 1635    \\\\\n",
       "\t 14.2     & 1        &  8.9     &  4.5     & 4.4      & 0.533    &  96.9    & 18       & 21.9     & 0.094    & 3.3      & 3180     & 25.0     & 0.083401 & 24.3006  &  578    \\\\\n",
       "\\end{tabular}\n"
      ],
      "text/markdown": [
       "\n",
       "M | So | Ed | Po1 | Po2 | LF | M.F | Pop | NW | U1 | U2 | Wealth | Ineq | Prob | Time | Crime | \n",
       "|---|---|---|\n",
       "| 15.1     | 1        |  9.1     |  5.8     | 5.6      | 0.510    |  95.0    | 33       | 30.1     | 0.108    | 4.1      | 3940     | 26.1     | 0.084602 | 26.2011  |  791     | \n",
       "| 14.3     | 0        | 11.3     | 10.3     | 9.5      | 0.583    | 101.2    | 13       | 10.2     | 0.096    | 3.6      | 5570     | 19.4     | 0.029599 | 25.2999  | 1635     | \n",
       "| 14.2     | 1        |  8.9     |  4.5     | 4.4      | 0.533    |  96.9    | 18       | 21.9     | 0.094    | 3.3      | 3180     | 25.0     | 0.083401 | 24.3006  |  578     | \n",
       "\n",
       "\n"
      ],
      "text/plain": [
       "  M    So Ed   Po1  Po2 LF    M.F   Pop NW   U1    U2  Wealth Ineq Prob    \n",
       "1 15.1 1   9.1  5.8 5.6 0.510  95.0 33  30.1 0.108 4.1 3940   26.1 0.084602\n",
       "2 14.3 0  11.3 10.3 9.5 0.583 101.2 13  10.2 0.096 3.6 5570   19.4 0.029599\n",
       "3 14.2 1   8.9  4.5 4.4 0.533  96.9 18  21.9 0.094 3.3 3180   25.0 0.083401\n",
       "  Time    Crime\n",
       "1 26.2011  791 \n",
       "2 25.2999 1635 \n",
       "3 24.3006  578 "
      ]
     },
     "metadata": {},
     "output_type": "display_data"
    }
   ],
   "source": [
    "library(outliers)\n",
    "crime_df <- read.table(\"uscrime.txt\", header = TRUE)\n",
    "head(crime_df, n=3)"
   ]
  },
  {
   "cell_type": "code",
   "execution_count": 19,
   "metadata": {},
   "outputs": [
    {
     "data": {
      "text/plain": [
       "\n",
       "\tGrubbs test for two opposite outliers\n",
       "\n",
       "data:  crime\n",
       "G = 4.26880, U = 0.78103, p-value = 1\n",
       "alternative hypothesis: 342 and 1993 are outliers\n"
      ]
     },
     "metadata": {},
     "output_type": "display_data"
    }
   ],
   "source": [
    "crime <- crime_df$Crime\n",
    "grubbs.test(crime, type = 11, opposite = FALSE, two.sided = FALSE)"
   ]
  },
  {
   "cell_type": "code",
   "execution_count": null,
   "metadata": {},
   "outputs": [],
   "source": []
  },
  {
   "cell_type": "markdown",
   "metadata": {},
   "source": [
    "## Problem 6.1"
   ]
  },
  {
   "cell_type": "markdown",
   "metadata": {},
   "source": [
    "Describe a situation or problem from your job, everyday life, current events, etc., for which a Change Detection model \n",
    "would be appropriate. Applying the CUSUM technique, how would you choose the critical value and the threshold?\n",
    "\n",
    "As a Performance analytics engineer at CAT, I bin the engine and machine performance metrics to view as a 1D histogram or heat maps. To correlate these histograms, I often find time weighted values of key performance indicators. Depending on the importance of the metric, I vary the time window from minutes to days. After tabulating the time weighted values, I compare the values to the threshold to detect failures.\n",
    "\n",
    "For example, I recently performed fatigue analysis where I had to calculate remaining life of a truck component based on stress-strain values. I chose my critical value based on varying the elastic and plastic constants of the material of  component. The threshold is a million cycles (General rule of thumb when looking at cyclic fatigue life of a material). I identified trucks and instances where the component lasted over the million cycles threshold to summarize optimum performance.\n"
   ]
  },
  {
   "cell_type": "code",
   "execution_count": null,
   "metadata": {},
   "outputs": [],
   "source": []
  },
  {
   "cell_type": "markdown",
   "metadata": {},
   "source": [
    "## Problem 6.2 (a)"
   ]
  },
  {
   "cell_type": "markdown",
   "metadata": {},
   "source": [
    "In this problem, I varied the values of C from 0 through 3, keeping the threshold at 75 degrees Farenheit. I calculated average temperatures of each year. For different values of C, I used CUSUM approach, based on the following equation:\n",
    "\n",
    "S(t) = max{0, S(t-1)+(mu - x(t) - C)}\n",
    "\n",
    "to identify the day in each year when temperature (in Farenheit) decreased to unofficially end summer.\n",
    "\n",
    "From my solution, I plotted the unofficial end of summer day per year for each value of C. October 8 seemed to be the average of all years when summer unofficially ended.\n",
    "\n",
    "Summer unofficially ended earliest in the year 2000 across all values of C. (for C=0, the minimum day of end of summer was September 17).\n",
    "\n",
    "The plot corroborates this data. "
   ]
  },
  {
   "cell_type": "markdown",
   "metadata": {},
   "source": [
    "## Problem 6.2 (b)"
   ]
  },
  {
   "cell_type": "markdown",
   "metadata": {},
   "source": [
    "Using CUSUM approach for C=0,1,2,3, the values of temperature seems to rise above threshold of 3 degrees in the year 2011 (and onwards) for C = 0. For C=1,  2012 and 2013 seem to be hotter than the previous years by 3 degrees, but gets cooler from 2014. So, for C=0. Atalanta seems to get warmer from 2011 (the day is September 19 for C=0 - calculated from the previous part of the problem).\n",
    "\n",
    "The answer seems to complement the average temperature trend plotted in the chart."
   ]
  },
  {
   "cell_type": "code",
   "execution_count": null,
   "metadata": {},
   "outputs": [],
   "source": []
  }
 ],
 "metadata": {
  "kernelspec": {
   "display_name": "R",
   "language": "R",
   "name": "ir"
  },
  "language_info": {
   "codemirror_mode": "r",
   "file_extension": ".r",
   "mimetype": "text/x-r-source",
   "name": "R",
   "pygments_lexer": "r",
   "version": "3.5.1"
  }
 },
 "nbformat": 4,
 "nbformat_minor": 2
}
